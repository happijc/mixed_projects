{
 "cells": [
  {
   "cell_type": "markdown",
   "metadata": {
    "pycharm": {
     "name": "#%% md\n"
    }
   },
   "source": [
    "# Testat 3 -   Musterlösung\n",
    "## Aufgabe 11 - Mengen\n",
    "\n",
    "Gegeben ist eine Liste \"cities\" mit Städten. Erzeugen Sie daraus eine entsprechende Menge \"unique_cities\". Generieren Sie anschließend ein Dictionary \"states\", das als Schlüssel das Bundesland und als Wert die zugehörige Landeshauptstadt verwendet.\n",
    "\n",
    "Prüfen Sie anschließend, ob sich folgende \"Bundesländer\" in dem Dictionary befinden:\n",
    "\n",
    "```\n",
    "Nordrhein-Westfalen\n",
    "Berlin\n",
    "Baden-Württemberg\n",
    "Düsseldorf\n",
    "Deutschland\n",
    "```\n",
    "\n",
    "Prüfen Sie weiter, ob sich folgende \"Städte\" unter den Werten befinden:\n",
    "\n",
    "```\n",
    "Düsseldorf\n",
    "München\n",
    "Berlin\n",
    "Baden-Württemberg\n",
    "Frankreich\n",
    "```\n"
   ]
  },
  {
   "cell_type": "code",
   "execution_count": null,
   "metadata": {
    "pycharm": {
     "is_executing": false,
     "name": "#%%\n"
    }
   },
   "outputs": [],
   "source": [
    "# Platz für Ihre Lösung"
   ]
  },
  {
   "cell_type": "markdown",
   "metadata": {},
   "source": [
    "## Aufgabe 12\n",
    "In einer Klasse soll der Film \"Faszination: Raufasertapete\" angeschaut werden. Leider hat dieser eine Altersfreigabe von 18. Der Lehrer möchte nun in Python ein Programm entwickeln, das ihm anzeigt, welche Schüler über 18 sind. Er hat bereits das Alter und die Schülernamen in getrennten Listen gespeichert. Da der Film wirklich sehr \"spannend\" ist, entschied sich der Lehrer, Einverständniserklärungen der Eltern einzuholen, mit der auch Minderjährige zusehen dürfen. In einer dritten Liste hielt er nun die Einverständniserklärung der Eltern fest. Das Programm soll nur die Schüler ausgeben, die teilnehmen dürfen."
   ]
  },
  {
   "cell_type": "code",
   "execution_count": 5,
   "metadata": {},
   "outputs": [],
   "source": [
    "# Platz für Ihre Lösung"
   ]
  },
  {
   "cell_type": "markdown",
   "metadata": {
    "pycharm": {
     "name": "#%% md\n"
    }
   },
   "source": [
    "## Aufgabe 13 - Sortieralgorithmen\n",
    "\n",
    "Informieren Sie sich über den Sortieralgorithmus *BubbleSort*. \n",
    "Geben Sie zunächst den Algorithmus in Pseudocode an und implementieren Sie diesen anschließend als Funktion `bubblesort()` in Python. Geben Sie dabei nach jedem Tausch die Liste via `print` aus, um nachzuvollziehen, wie der derzeitige Stand der Sortierung ist.\n",
    "\n",
    "Sortieren Sie im Anschluss die nachfolgende Liste mit Ihrer Implementierung:\n",
    "\n",
    "`[20, 18, 16, 14, 12, 10, 8, 6, 4, 2]`\n",
    "\n",
    "Platz für Ihre Lösung als Algorithmus"
   ]
  },
  {
   "cell_type": "code",
   "execution_count": 1,
   "metadata": {
    "pycharm": {
     "is_executing": false,
     "name": "#%%\n"
    }
   },
   "outputs": [],
   "source": [
    "# Platz für Ihre Python-Lösung"
   ]
  },
  {
   "cell_type": "markdown",
   "metadata": {
    "pycharm": {
     "name": "#%% md\n"
    }
   },
   "source": [
    "## Aufgabe 14 - Studierende\n",
    "\n",
    "Erstellen Sie ein Dictionary mit Studierenden, das eine *Matrikelnr.* als Schlüssel und einen *Namen* als Wert besitzt. Verwenden Sie Ihre Funktion `bubblesort()`, um eine Sortierung über die Matrikelnummern durchzuführen.  Geben Sie das Ergebnis via `print()` aus."
   ]
  },
  {
   "cell_type": "code",
   "execution_count": 2,
   "metadata": {
    "pycharm": {
     "is_executing": false,
     "name": "#%%\n"
    }
   },
   "outputs": [],
   "source": [
    "# Platz für Ihre Lösung"
   ]
  },
  {
   "cell_type": "markdown",
   "metadata": {},
   "source": [
    "# Aufgabe 15 - Im Zeichen der Zeit\n",
    "## Aufgabe 15a\n",
    "Entwickeln Sie im Folgenden ein Programm, das bei der Eingabe einer Zahl von 1 bis 12 den passenden Monat ausgibt. Die Ausgabe soll beispielhaft wie folgt aussehen:\n",
    "```\n",
    "Bitte geben Sie einen Monat ein: 1 Januar\n",
    "```"
   ]
  },
  {
   "cell_type": "code",
   "execution_count": 3,
   "metadata": {},
   "outputs": [],
   "source": [
    "# Hier ist Platz für Ihren Lösungsansatz:"
   ]
  },
  {
   "cell_type": "markdown",
   "metadata": {},
   "source": [
    "## Aufgabe 15b\n",
    "Prüfen Sie nun für ein eingegebenes Jahr, ob es sich um ein Schaltjahr handelt. Ausgegeben werden soll je nach Jahr \"Jahr ist EIN Schaltjahr\" oder \"Jahr ist KEIN Schaltjahr\".\n",
    "\n",
    "Entwickeln Sie dazu vorerst einen Algoritmus (evntuell ist ja dieser Wikipedia-Artikel hilfreich: https://de.wikipedia.org/wiki/Schaltjahr#Gregorianischer_Kalender)\n",
    "\n",
    "Platz für Ihren Algorithmus"
   ]
  },
  {
   "cell_type": "markdown",
   "metadata": {},
   "source": [
    "Nun entwickeln Sie bitte aus dem Algorithmus ein Python-Programm. Testen Sie es bitte mit folgenden Daten: 1904, 2005, 2008"
   ]
  },
  {
   "cell_type": "code",
   "execution_count": 4,
   "metadata": {},
   "outputs": [],
   "source": [
    "# Platz für Ihren Code"
   ]
  }
 ],
 "metadata": {
  "interpreter": {
   "hash": "b9dce8ff3fc6f2774fa08edf0a6e907182570c4c4c52fce306a0179fbee8cf5d"
  },
  "kernelspec": {
   "display_name": "Python 3 (ipykernel)",
   "language": "python",
   "name": "python3"
  },
  "language_info": {
   "codemirror_mode": {
    "name": "ipython",
    "version": 3
   },
   "file_extension": ".py",
   "mimetype": "text/x-python",
   "name": "python",
   "nbconvert_exporter": "python",
   "pygments_lexer": "ipython3",
   "version": "3.7.3"
  },
  "pycharm": {
   "stem_cell": {
    "cell_type": "raw",
    "metadata": {
     "collapsed": false
    },
    "source": []
   }
  }
 },
 "nbformat": 4,
 "nbformat_minor": 4
}

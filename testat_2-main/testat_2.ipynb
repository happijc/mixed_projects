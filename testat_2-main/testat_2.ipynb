{
 "cells": [
  {
   "cell_type": "markdown",
   "metadata": {},
   "source": [
    "# Testat 2 - Musterlösung\n",
    "## Aufgabe 6 - Minimum berechnen\n",
    "\n",
    "### Aufgabe 6a)\n",
    "Erstellen Sie eine Funktion `min_2(a, b)`, welche das Minimum von zwei Zahlen zurückgibt, die an die Funktion übergeben werden. Nutzen Sie dabei lediglich den Vergleichsoperator und *nicht* die `min()`-Funktion, die von Python zur Verfügung gestellt wird. Testen Sie Ihre Funktionen mittels der unten stehenden Zahlen:\n",
    "\n",
    "```\n",
    "1, 2\n",
    "2, 2\n",
    "-1, 2\n",
    "0, 0\n",
    "```"
   ]
  },
  {
   "cell_type": "code",
   "execution_count": 1,
   "metadata": {},
   "outputs": [],
   "source": [
    "# Platz für Ihre Lösung der Aufgabe 6a)"
   ]
  },
  {
   "cell_type": "markdown",
   "metadata": {},
   "source": [
    "### Aufgabe 6b)\n",
    "Erstellen Sie analog zu 6a) eine weitere Funktion `min_3(a, b, c)`, die das Minimum von drei Zahlen zurückgibt. Testen Sie Ihre Funktionen mittels der unten stehenden Zahlen:\n",
    "\n",
    "```\n",
    "1, 2, 3\n",
    "3, 2, 1\n",
    "3, 3, 0\n",
    "-1, -2, 1\n",
    "```"
   ]
  },
  {
   "cell_type": "code",
   "execution_count": 4,
   "metadata": {},
   "outputs": [],
   "source": [
    "# Platz für Ihre Lösung der Aufgabe 6b)"
   ]
  },
  {
   "cell_type": "markdown",
   "metadata": {},
   "source": [
    "### Aufgabe 6c)\n",
    "Verwenden Sie in einer weiteren zu erstellenden Funktion `min_3_1(a, b, c)` die Funktion `min_2(a,b)` aus dem ersten Aufgabenteil."
   ]
  },
  {
   "cell_type": "code",
   "execution_count": 5,
   "metadata": {},
   "outputs": [],
   "source": [
    "# Platz für Ihre Lösung der Aufgabe 6c)"
   ]
  },
  {
   "cell_type": "markdown",
   "metadata": {},
   "source": [
    "## Aufgabe 7 - Umrechnung"
   ]
  },
  {
   "cell_type": "markdown",
   "metadata": {},
   "source": [
    "### Aufgabe 7a - Binär zu Dezimal\n",
    "Geben Sie dem Nutzer mithilfe der Funktion `int()` die Möglichkeit, Binärzahlen in Dezimalzahlen umzuwandeln. Die Zahlen sollen später vom Nutzer eingegeben werden können. Testen Sie es mit folgenden Zahlen:\n",
    "\n",
    "```\n",
    "10\n",
    "1010\n",
    "10100100101\n",
    "```\n",
    "Die Ausgabe soll folgendermaßen aussehen:\n",
    "```\n",
    "Tragen Sie bitte nacheinander drei Binärzahlen ein:\n",
    "1. Binärzahl eingeben:  10\n",
    "2. Binärzahl eingeben:  1010\n",
    "3. Binärzahl eingeben:  10100100101\n",
    "Zahl1: 2 Zahl 2: 10 Zahl 3: 1317\n",
    "```"
   ]
  },
  {
   "cell_type": "code",
   "execution_count": null,
   "metadata": {},
   "outputs": [],
   "source": [
    "# Tragen Sie hier bitte Ihren Code ein"
   ]
  },
  {
   "cell_type": "markdown",
   "metadata": {},
   "source": [
    "### Aufgabe 7b - Dezimal zu Binär\n",
    "Nutzen Sie die Funktion `bin()` um eine einzugebende Zahl in eine Binärzahl umzuwandeln. Bei der Eingabe durch den Nutzer denken Sie bitte unbedingt an die Typenumwandlung:"
   ]
  },
  {
   "cell_type": "code",
   "execution_count": null,
   "metadata": {},
   "outputs": [],
   "source": [
    "# Tragen Sie hier bitte Ihren Code ein"
   ]
  },
  {
   "cell_type": "markdown",
   "metadata": {
    "pycharm": {
     "name": "#%% md\n"
    }
   },
   "source": [
    "### Aufgabe 8 - Gleitkommazahlen\n",
    "\n",
    "In Python werden Gleitkommazahlen, wie in anderen Sprachen auch, wegen der endlichen Darstellung im Speicher lediglich approximiert. Es herrscht also eine Ungenauigkeit, die bspw. bei der Darstellung der Zahl `0.1` deutlich wird:"
   ]
  },
  {
   "cell_type": "code",
   "execution_count": null,
   "metadata": {
    "collapsed": false,
    "jupyter": {
     "outputs_hidden": false
    },
    "pycharm": {
     "is_executing": false,
     "name": "#%% \n"
    }
   },
   "outputs": [],
   "source": [
    "zahl = 0.1\n",
    "print(f'{zahl:.32f}')"
   ]
  },
  {
   "cell_type": "markdown",
   "metadata": {
    "pycharm": {
     "name": "#%% md\n"
    }
   },
   "source": [
    "Theoretisch können wir die Zahl `1` in einer Endlosschleif durch `2` dividieren, ohne dass der Wert `0` jemals erreicht würde. Diese Vorgehensweise wäre allerdings nicht endlich. Auf Grund der oben gezeigten Ungenauigkeit kann die Zahl 1 solange in Folge durch 2 dividiert werden, bis die Zahl 0 erreicht wird. Diesen Wert können wir als Abbruchkriterium verwenden.\n",
    "\n",
    "Erstellen Sie einen Algorithmus, der eine Zahl, die zunächst mit `1` initialisiert wurde, iterativ in einer Schleife durch `2` dividiert und das Ergebnis ausgibt. Die Schleife soll dann abbrechen, wenn der Wert von Zahl `<= 0` wird."
   ]
  },
  {
   "cell_type": "code",
   "execution_count": null,
   "metadata": {
    "collapsed": false,
    "jupyter": {
     "outputs_hidden": false
    },
    "pycharm": {
     "is_executing": false,
     "name": "#%%\n"
    }
   },
   "outputs": [],
   "source": [
    "# Tragen Sie hier bitte Ihren Code ein"
   ]
  },
  {
   "cell_type": "markdown",
   "metadata": {
    "pycharm": {
     "name": "#%% md\n"
    }
   },
   "source": [
    "## Aufgabe 9 - Größter gemeinsamer Teiler\n",
    "\n",
    "Bitte geben Sie den Algorithmus (als Pseudocode) einer Funktion zur Berechnung des größten gemeinsamen Teilers zweier Zahlen an. Implementieren Sie diesen Algorithmus im Anschluss in Python als `ggT()` Funktion zwecks Wiederverwendbarkeit.\n",
    "\n",
    "\\begin{equation}\n",
    "  ggT(x, y)=\\left\\{\n",
    "    \\begin{array}{ll}\n",
    "      y, & \\mbox{falls x = 0}.\\\\\n",
    "      ggT(y, x), & \\mbox{falls 0 < x < y}.\\\\\n",
    "      ggT(x - y, y), & \\mbox{sonst.}\n",
    "    \\end{array}\n",
    "  \\right.\n",
    "\\end{equation}\n",
    "\n",
    "```\n",
    "Bitte tragen Sie hier Ihren Algorithmus ein\n",
    "```"
   ]
  },
  {
   "cell_type": "code",
   "execution_count": null,
   "metadata": {
    "collapsed": false,
    "jupyter": {
     "outputs_hidden": false
    },
    "pycharm": {
     "is_executing": false,
     "name": "#%%\n"
    }
   },
   "outputs": [],
   "source": [
    "# Bitte tragen Sie hier Ihren Code ein"
   ]
  },
  {
   "cell_type": "markdown",
   "metadata": {},
   "source": [
    "## Aufgabe 10\n",
    "Berechnen Sie für die zwei Variablen x und y die Potenz (x^y). Initialisieren Sie x mit 5 und y mit 25. Führen Sie dies einmal manuell (mit einer for-Schleife) und einmal mit dem in Python gegebenen Operator für das Potenzieren aus. Am Ende geben Sie bitte das Ergebnis und die Anzahl an Bytes aus, die das Ergebnis beansprucht."
   ]
  },
  {
   "cell_type": "code",
   "execution_count": 6,
   "metadata": {},
   "outputs": [],
   "source": [
    "# Bitte tragen Sie hier Ihren Code ein"
   ]
  }
 ],
 "metadata": {
  "interpreter": {
   "hash": "b9dce8ff3fc6f2774fa08edf0a6e907182570c4c4c52fce306a0179fbee8cf5d"
  },
  "kernelspec": {
   "display_name": "Python 3 (ipykernel)",
   "language": "python",
   "name": "python3"
  },
  "language_info": {
   "codemirror_mode": {
    "name": "ipython",
    "version": 3
   },
   "file_extension": ".py",
   "mimetype": "text/x-python",
   "name": "python",
   "nbconvert_exporter": "python",
   "pygments_lexer": "ipython3",
   "version": "3.7.3"
  },
  "pycharm": {
   "stem_cell": {
    "cell_type": "raw",
    "metadata": {
     "collapsed": false
    },
    "source": []
   }
  }
 },
 "nbformat": 4,
 "nbformat_minor": 4
}

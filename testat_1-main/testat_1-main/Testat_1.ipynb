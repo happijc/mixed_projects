{
 "cells": [
  {
   "cell_type": "markdown",
   "metadata": {
    "pycharm": {
     "name": "#%% md\n"
    },
    "tags": []
   },
   "source": [
    "# Testat 1\n",
    "\n",
    "Dieses Testat beschäftigt sich mit Algorithmen und der Übertragung der Algorithmen in die Programmiersprache Python\n",
    "\n",
    "## Aufgabe 1\n",
    "\n",
    "Bitte geben Sie an, ob die angegebenen Anweisungen einen Algorithmus(-schritt) bilden und ob sie determiniert sind. Bitte begründen Sie jeweils Ihre Entscheidung.\n",
    "\n",
    "a)->Drucke alle ganzen Zahlen aus\n",
    "\n",
    "b)->Ernähre Dich gesund\n",
    "\n",
    "c)->Laufe 5 Meter geradeaus\n"
   ]
  },
  {
   "cell_type": "markdown",
   "metadata": {
    "pycharm": {
     "name": "#%% md\n"
    }
   },
   "source": [
    "a<- Diese Anweisung bildet keinen Algorithmusschritt, und ist ebenfalls nicht determiniert, da es unendlich viele ganze Zahlen, also der Rechner wird hier endlos laufen. z.B wenn wir x als ganze Zahl betrachten und 1 als Schritt auswählen, dann ergibt sich:\n",
    "x = 0\n",
    "x = x + 1\n",
    "\n",
    "b)<- Ist die Ernährung gesund oder nicht muss erstaml von jemandem festgelegt werden, ab dem Punkt muss alles was also diese Anweisung problemlos einen Algorithmus, der derterminiert ist. Also gibt's dann:\n",
    "\n",
    "Ernährung = Gesund\n",
    "if Ernährung = Gesund \n",
    "    sich ernähren\n",
    "sonst \n",
    "    sich etwas anderes aussuchen\n",
    "    \n",
    "c<- Die Anweisung bildet einen vollwertigen Algorithmus.\n",
    "Der Start- und Endpunkt sind angegeben. Der Startpunkt ist dabei die aktuelle Position der Person (0). \n",
    "Der Endpunkt befindet sich in 5 Metern Entfernung (0+500). \n",
    "Jeder Schritt bringt die Person um 80cm näher an den Endpunkt heran.\n",
    "\n",
    "CurrentPos = 0\n",
    "EndPos = 500\n",
    "StepLen = 80\n",
    "\n",
    "SOLANGE CurrentPos < Endpos\n",
    "    CurrentPos = CurrentPos + StepLen\n",
    "END SOLANGE CurrentPos"
   ]
  },
  {
   "cell_type": "markdown",
   "metadata": {
    "pycharm": {
     "name": "#%% md\n"
    },
    "tags": []
   },
   "source": [
    "## Aufgabe 2\n",
    "Mein Morgen\n",
    "\n",
    "Erstellen Sie einen Algorithmus für den Ablauf am Morgen (Aufstehen, Waschen, …).\n"
   ]
  },
  {
   "cell_type": "markdown",
   "metadata": {
    "pycharm": {
     "name": "#%% md\n"
    }
   },
   "source": [
    "Wachwerden, Betten, Aufstehen, Waschen, Umziehen, Frühstück vorbereiten, frühstücken, Zähne putzen, auf Vorlesung warten\n"
   ]
  },
  {
   "cell_type": "markdown",
   "metadata": {
    "pycharm": {
     "name": "#%% md\n"
    },
    "tags": []
   },
   "source": [
    "## Aufgabe 3\n",
    "Altersverifikation\n",
    "\n",
    "### Aufgabe 3a\n",
    "\n",
    "Erstellen Sie einen Algorithmus, der den Benutzer nach seinem Alter fragt, und anschließend ausgibt, ob er volljährig ist oder nicht.\n",
    "\n",
    "Beispiel:\n",
    "\n",
    "> Ihr Alter? 17\n",
    "Sie sind noch nicht volljährig\n",
    "\n",
    "> Ihr Alter? 18\n",
    "Gratuliere: Sie sind bereits volljährig\n",
    "\n",
    "### Aufgabe 3b\n",
    "\n",
    "Übersetzen Sie Ihren Algorithmus in Python-Code.\n"
   ]
  },
  {
   "cell_type": "markdown",
   "metadata": {
    "pycharm": {
     "name": "#%% md\n"
    }
   },
   "source": [
    "Warten auf Dateneingabe\n",
    "Daten werden eingegeben\n",
    "Prüfen, ob es sich um eine Ganzzahl im positiven Bereich handelt\n",
    "\n",
    "FALLS Zahl <= 0\n",
    "    DANN Ausgabe 'Sie sind noch nicht geboren!\"\n",
    "SONST\n",
    "    FALLS Zahl < 18\n",
    "        DANN \n",
    "            Ausgabe 'Sie sind minderjährig'\n",
    "        ANDERNFALLS \n",
    "            Ausgabe 'Sie sind volljährig'\n",
    "        ENDE FALLS Zahl\n"
   ]
  },
  {
   "cell_type": "code",
   "execution_count": 1,
   "metadata": {
    "pycharm": {
     "name": "#%% md\n"
    },
    "tags": []
   },
   "outputs": [],
   "source": [
    "CheckAge = int(input('Bitte geben Sie Ihr Alter ein:'))\n",
    "\n",
    "if CheckAge < 0:\n",
    "    print('Sie sind noch nicht geboren!')\n",
    "elif CheckAge < 18:\n",
    "    print('Sie sind minderjährig!')\n",
    "else:\n",
    "    print('Sie sind volljährig!')"
   ]
  },
  {
   "cell_type": "markdown",
   "metadata": {
    "pycharm": {
     "name": "#%% md\n"
    },
    "tags": []
   },
   "source": [
    "## Aufgabe 4\n",
    "\n",
    "Elementare Algorithmen und die Übertragung in Python\n",
    "\n",
    "### Aufgabe 4a\n",
    "\n",
    "Schreiben Sie einen Algorithmus, der auf der Basis von drei verschiedenen Schleifentypen jeweils die Ausgabe von Zahlen von 1 bis `n` erzeugt. Der Parameter `n` soll im Algorithmus eingelesen werden. "
   ]
  },
  {
   "cell_type": "markdown",
   "metadata": {
    "pycharm": {
     "name": "#%% md\n"
    }
   },
   "source": [
    "INITIALISIERE n=0\n",
    "SOLANGE n <= 0\n",
    "    Warte auf Dateneingabe\n",
    "    WENN n > 0\n",
    "        FÜR JEDEN WERT ZWISCHEN 1 UND n\n",
    "        Gib n aus\n",
    "        ADDIERE 1 auf n"
   ]
  },
  {
   "cell_type": "markdown",
   "metadata": {
    "pycharm": {
     "name": "#%% md\n"
    },
    "tags": []
   },
   "source": [
    "\n",
    "### Aufgabe 4b\n",
    "\n",
    "Übertragen Sie den in Aufgabe 4a entwickelten Algorithmus in Python.\n",
    "\n"
   ]
  },
  {
   "cell_type": "code",
   "execution_count": 2,
   "metadata": {
    "pycharm": {
     "name": "#%% md\n"
    }
   },
   "outputs": [],
   "source": [
    "n=0\n",
    "while n<=0:\n",
    "    n=int(input('Bitte geben Sie einen Parameter ein, der größer als 1 ist:\\n'))\n",
    "    if n>0:\n",
    "        for number in range(1, n):\n",
    "            print(n)\n",
    "            n = n + 1"
   ]
  },
  {
   "cell_type": "markdown",
   "metadata": {
    "pycharm": {
     "name": "#%% md\n"
    }
   },
   "source": [
    "## Aufgabe 5\n",
    "\n",
    "Das Ziel dieser Aufgabe ist es, einen größeren vorgegebenen Algorithmus in Python zu übersetzen. Verwenden Sie, wo es nicht anders möglich ist, Ausgaben via `print`. \n",
    "\n",
    "```\n",
    "ALGORITHMUS\n",
    "    Tiefkühlpizza()\n",
    "BESCHREIBUNG\n",
    "    Bereitet eine Tiefkühlpizza zu.\n",
    "DEKLARATION UND DEFINITION DER LOKALEN GRÖẞEN\n",
    "    Übernahmeparameter: Keine\n",
    "    Rückgabeparameter: Keine\n",
    "    Zutaten: Tiefkühlpizza\n",
    "    Geschirr: Teller\n",
    "    Geräte: Backofen, Tiefkühlschrank\n",
    "ALGORITHMUSKERN\n",
    "    Backofen anschalten/vorheizen\n",
    "    SOLANGE Backofen nicht heiß FÜHRE AUS\n",
    "        Warte 1 min\n",
    "    ENDE SOLANGE\n",
    "    Pizza aus Tiefkühlschrank nehmen\n",
    "    Pizza aus Verpackung nehmen\n",
    "    Öffne Backofen\n",
    "    Pizza in Backofen legen\n",
    "    Schließe Backofen\n",
    "    WIEDERHOLE\n",
    "        Warte 1 min\n",
    "    SOLANGE Pizza nicht fertig\n",
    "    Backofen ausschalten\n",
    "    Öffne Backofen\n",
    "    Pizza aus Backofen holen und auf Teller legen\n",
    "    Schließe Backofen\n",
    "ENDE ALGORITHMUS\n",
    "```"
   ]
  },
  {
   "cell_type": "code",
   "execution_count": 3,
   "metadata": {
    "pycharm": {
     "name": "#%% md\n"
    }
   },
   "outputs": [],
   "source": [
    "# Platz für Ihre Lösung der Aufgabe 5\n",
    "\n",
    "from time import sleep\n",
    "\n",
    "def tiefkuehlpizza():\n",
    "    # Bereitet eine Tiefkühlpizza zu.\n",
    "\n",
    "    backofen = \"off\"\n",
    "    backofen_open = 0\n",
    "    pizza_ready = 0\n",
    "    \n",
    "    if backofen == \"off\":\n",
    "        backofen = \"on\"\n",
    "        \n",
    "        while backofen != \"hot\":\n",
    "            sleep(60)\n",
    "            backofen = \"hot\"\n",
    "        \n",
    "        print(\"Pizza aus Tiefkühlschrank nehmen\")\n",
    "        print(\"Pizza aus Verpackung nehmen\")\n",
    "        \n",
    "        # das Öffnen und Schließen stellen einen Prozess dar, der Zeit benötigt\n",
    "        # daher wird mit dem nächsten Schritt gewartet, bis der Backofen auf wirklich ofen/geschlossen ist\n",
    "        while backofen_open == 0:\n",
    "            backofen_open = 1\n",
    "        \n",
    "        print(\"Pizza in Backofen legen\")\n",
    "\n",
    "        while backofen_open == 1:\n",
    "            backofen_open = 0\n",
    "\n",
    "        while pizza_ready == 0:\n",
    "            sleep(60)\n",
    "            pizza_ready = 1\n",
    "\n",
    "        backofen = \"off\"\n",
    "        \n",
    "        while backofen_open == 0:\n",
    "            backofen_open = 1\n",
    "            \n",
    "        print(\"Pizza aus Backofen holen und auf Teller legen\")\n",
    "        \n",
    "        while backofen_open == 1:\n",
    "            backofen_open = 0\n",
    "    \n",
    "tiefkuehlpizza()\n",
    "\n",
    "#In Python gibt es einen für die Umsetzung des Algorithmus praktischen Befehl. Dieser Sleep-Befehl \"sleep(1)\" fügt eine Wartezeit in Ihr Programm ein.\n",
    "#In die Klammern müssen Sie die Zeit in Sekunden schreiben, die das Programm warten soll. In diesem Fall wartet das Programm also genau eine Sekunde.\n",
    "#Fügen Sie am Anfang Ihres Codes die Zeile \"from time import sleep\" (ohne Anführungszeichen) hinzu (s.o.), damit Sie die Sleep-Funktion später verwenden können."
   ]
  }
 ],
 "metadata": {
  "kernelspec": {
   "display_name": "Python 3 (ipykernel)",
   "language": "python",
   "name": "python3"
  },
  "language_info": {
   "codemirror_mode": {
    "name": "ipython",
    "version": 3
   },
   "file_extension": ".py",
   "mimetype": "text/x-python",
   "name": "python",
   "nbconvert_exporter": "python",
   "pygments_lexer": "ipython3",
   "version": "3.7.3"
  }
 },
 "nbformat": 4,
 "nbformat_minor": 4
}

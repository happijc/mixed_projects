{
 "cells": [
  {
   "cell_type": "markdown",
   "metadata": {
    "pycharm": {
     "name": "#%% md\n"
    }
   },
   "source": [
    "## Aufgabe 1 - Klassen\n",
    "\n",
    "Erstellen Sie eine Klasse `Hallo`. Diese soll bei der Initialisierung eine `print`-Ausgabe mit einer Begrüßung Ihrer Wahl ausführen. Im Destruktor soll ein Abschied Ihrer Wahl ausgegeben werden. Instanziieren Sie ein Objekt der Klasse und löschen Sie dieses im Anschluss explizit mit der `del` Anweisung."
   ]
  },
  {
   "cell_type": "code",
   "execution_count": null,
   "metadata": {
    "collapsed": false,
    "jupyter": {
     "outputs_hidden": false
    },
    "pycharm": {
     "is_executing": false,
     "name": "#%%\n"
    }
   },
   "outputs": [],
   "source": [
    "# Hier kommt Ihr Lösungsansatz hin."
   ]
  },
  {
   "cell_type": "markdown",
   "metadata": {},
   "source": [
    "## Aufgabe 2 - Call by Reference\n",
    "\n",
    "Gegeben ist folgender Codeausschnitt:"
   ]
  },
  {
   "cell_type": "code",
   "execution_count": null,
   "metadata": {
    "collapsed": false,
    "jupyter": {
     "outputs_hidden": false
    },
    "pycharm": {
     "is_executing": false,
     "name": "#%%\n"
    }
   },
   "outputs": [],
   "source": [
    "val1 = 1\n",
    "val2 = 4\n",
    "\n",
    "def swap(val1, val2):\n",
    "    val1, val2 = val2, val1\n",
    "    print(val1, val2)\n",
    "\n",
    "print(val1, val2)\n",
    "swap(val1, val2)\n",
    "print(val1, val2)"
   ]
  },
  {
   "cell_type": "markdown",
   "metadata": {
    "pycharm": {
     "name": "#%% md\n"
    }
   },
   "source": [
    "Hier wird schnell deutlich, dass die Werte via *Call by Value* übergeben wird. Verändern Sie den Aufruf der Funktion, sodass die Werte  via *Call by Reference* übergeben werden. Um das zu erreichen, erstellen Sie ein Klasse `Wrapper`. Bei der Erzeugung von Instanzen werden die Werte übergeben, die als Attribute des Objekts gespeichert werden. Erstellen Sie nun eine Funktion `change_reference`, in welcher das Attribut des Objekts via Call by Reference geändert wird. Geben Sie den Wert der Attribute vor und nach dem Funktionsaufruf via `print` aus."
   ]
  },
  {
   "cell_type": "code",
   "execution_count": null,
   "metadata": {
    "collapsed": false,
    "jupyter": {
     "outputs_hidden": false
    },
    "pycharm": {
     "is_executing": false,
     "name": "#%%\n"
    }
   },
   "outputs": [],
   "source": [
    "# Hier kommt Ihr Lösungsansatz hin."
   ]
  },
  {
   "cell_type": "markdown",
   "metadata": {
    "pycharm": {
     "name": "#%% md\n"
    }
   },
   "source": [
    "## Aufgaben 3 - Methodenüberladung\n",
    "\n",
    "1. Erstellen Sie eine Klasse `Point`. An die bei der Erzeugung  zwei Koordinaten `x` und `y` übergeben werden und diese als Attribute des Objekts speichert. Fügen Sie weiterhin eine Methode `coordinate_distance` hinzu, welcher ebenfalls zwei Koordinaten `x` und `y` übergeben werden. Diese Methode soll die euklidsche Distanz zwischen den Koordinaten berechnen und das Ergebnis zurückgeben. Nutzen Sie zur Berechnung der Distanz die Funktionen `sqrt` und `pow` (oder den `**`-Operator) aus dem `math`-Modul.\n",
    "2. Erweitern Sie die Klasse um eine Methode `point_distance`, welcher als Parameter ein Objekt der Klasse `Point` übergeben wird. Diese soll die Distanz zwischen zwei Punkten berechnen. Nutzen Sie hierfür die `coordinate_distance` Funktion.\n",
    "3. Fügen Sie der Klasse eine Methode `distance_args` hinzu. Als Parameter soll dieser `*args` übergeben werden. Abhängig von den übergebenen Argumenten soll die Funktion entweder die `coordinate_distance` oder `point_distance`-Methode aufrufen und dessen Wert zurückliefern.\n",
    "4. Ergänzen Sie die Klasse um eine weitere Methode `distance_kwargs`. Der Parameter `**kwargs` soll die Key-Value Argumente entgegennehmen. Wie in Aufgabe 3.3 soll die Methode entscheiden, ob die Methode `coordinate_distance` oder `point_distance` die Distanz berechnet.\n",
    "\n",
    "Testen Sie nach jedem Schritt Ihre Methoden mit den nachfolgenden Werten. Instanziieren Sie zunächst ein Objekt mit den Koordinaten `(1, 1)`.\n",
    "Testen Sie Aufgaben 3.3 und 3.4 mit beiden Eingabemöglichkeiten - als Koordinaten und als Punkte.\n",
    "\n",
    "```\n",
    "x: 1, y: 1\n",
    "x: 0, y: 0\n",
    "x: -1, y: -1\n",
    "x: 3, y: 3\n",
    "x: 4, y: 5\n",
    "```"
   ]
  },
  {
   "cell_type": "code",
   "execution_count": null,
   "metadata": {
    "collapsed": false,
    "jupyter": {
     "outputs_hidden": false
    },
    "pycharm": {
     "is_executing": false,
     "name": "#%%\n"
    }
   },
   "outputs": [],
   "source": [
    "# Hier kommt Ihr Lösungsansatz hin.\n",
    "\n",
    "\n",
    "\n",
    "# Testen Sie Ihre Implementierung mit folgenden Eingabedaten:\n",
    "p = Point(1, 1)\n",
    "p2 = Point(1, 1)\n",
    "p3 = Point(0, 0)\n",
    "p4 = Point(-1, -1)\n",
    "p5 = Point(3, 3)\n",
    "p6 = Point(4, 5)\n",
    "print(p.distance_args(1, 1))\n",
    "print(p.distance_args(0, 0))\n",
    "print(p.distance_args(-1, -1))\n",
    "print(p.distance_args(3, 3))\n",
    "print(p.distance_args(4, 5))\n",
    "print(p.distance_args(p2))\n",
    "print(p.distance_args(p3))\n",
    "print(p.distance_args(p4))\n",
    "print(p.distance_args(p5))\n",
    "print(p.distance_args(p6))\n",
    "print(p.distance_kwargs(x=1, y=1))\n",
    "print(p.distance_kwargs(x=0, y=0))\n",
    "print(p.distance_kwargs(x=-1, y=-1))\n",
    "print(p.distance_kwargs(x=3, y=3))\n",
    "print(p.distance_kwargs(x=4, y=5))\n",
    "print(p.distance_kwargs(point=p2))\n",
    "print(p.distance_kwargs(point=p3))\n",
    "print(p.distance_kwargs(point=p4))\n",
    "print(p.distance_kwargs(point=p5))\n",
    "print(p.distance_kwargs(point=p6))"
   ]
  },
  {
   "cell_type": "markdown",
   "metadata": {
    "pycharm": {
     "name": "#%% md\n"
    }
   },
   "source": [
    "## Aufgabe 4\n",
    "\n",
    "Gegeben ist eine Klasse `Mitarbeiter`. Bei der Instanziierung werden die Parameter `vorname` und `nachname` übergeben und als Attribute des Objekts gespeichert. Des Weiteren wird die ToString-Methode `__str__` implementiert, wodurch die String-Repräsentation des Objekts angepasst wird.\n",
    "\n",
    "1. Erstellen Sie eine weitere Klasse `Angestellter`, welche von der Klasse `Mitarbeiter` erbt. Im Konstruktor sollen dieselben Parameter entgegengenommen werden, welche via `super` an die Basisklasse übergeben werden können.\n",
    "1. Initialisieren Sie in der init-Methode der neuen Klasse das Attribut `monatsgehalt` mit dem Wert `2500`.\n",
    "1. Fügen Sie eine Methode `weihnachtsgeld` hinzu, die als Rückgabewert das Monatsgehalt zuückliefert.\n",
    "1. Fügen Sie die Methode `jahresgehalt` hinzu, welche das Jahresgehalt basierend auf dem Monatsgehalt und dem Weihnachtsgeld berechnet und den Wert zurückgibt.\n",
    "1. Überschreiben Sie die Methode `__str__`, sodass zusätzlich zu dem vollständigen Namen der Titel *Angestellter* zurückgegeben wird.\n",
    "1. Erweitern Sie die Klasse um die Methode `__eq__`, anhand welcher Objekte auf Gleichheit/Äquivalenz geprüft werden. Als Kriterium soll getestet werden, ob es sich bei dem anderen Objekt um dieselbe Klasse handelt, und, ob die Variablen `vorname` und `nachname` gleich sind.\n",
    "1. Erstellen Sie eine weitere Klasse `Manager`, welche ebenfalls von der Klasse `Mitarbeiter` erbt. Führen Sie die Schritte 2-6 ebenfalls für diese Klasse aus. Hinterlegen Sie als monatliches Gehalt den Wert `5000` und als Weihnachtsgeld ein doppeltes Monatsgehalt.\n",
    "\n",
    "Testen Sie anschließend Ihre Implementierung, indem Sie die jeweiligen Klassen initialisieren und das Objekt via `print` ausgeben. Geben Sie im Anschluss das Jahresgehalt aller Objekte, inkl. der Person, aus. Was fällt Ihnen auf? ;-)"
   ]
  },
  {
   "cell_type": "code",
   "execution_count": null,
   "metadata": {
    "collapsed": false,
    "jupyter": {
     "outputs_hidden": false
    },
    "pycharm": {
     "is_executing": false,
     "name": "#%%\n"
    }
   },
   "outputs": [],
   "source": [
    "class Mitarbeiter:\n",
    "    def __init__(self, vorname, nachname):\n",
    "        self.vorname = vorname\n",
    "        self.nachname = nachname\n",
    "\n",
    "    def jahresgehalt(self):\n",
    "        raise NotImplementedError\n",
    "\n",
    "    def __str__(self):\n",
    "        return f\"Mitarbeiter: {self.vorname} {self.nachname}\"\n",
    "\n",
    "# Hier kommt Ihr Lösungsansatz hin.\n",
    "\n",
    "\n",
    "\n",
    "# Testen Sie Ihre Implementierung mit folgenden Eingabedaten:\n",
    "m1 = Manager(\"Tim\", \"Apple\")\n",
    "m2 = Manager(\"Rudi\", \"Wongl\")\n",
    "a1 = Angestellter(\"Maximilian\", \"Mustermann\")\n",
    "a2 = Angestellter(\"Maximilian\", \"Mustermann\")\n",
    "a3 = Angestellter(\"Nico\", \"Ebene\")\n",
    "m = Mitarbeiter(\"Peter\", \"Petersen\")\n",
    "\n",
    "print(a1 == a2)\n",
    "menschen = [m1, m2, a1, a2, a3, m]\n",
    "for mensch in menschen:\n",
    "    try:\n",
    "        print(f\"Jahresgehalt von {mensch} ist {mensch.jahresgehalt()}€.\")\n",
    "    except NotImplementedError:\n",
    "        print(\"Fehler! Die Methode ist nicht implementiert!\")"
   ]
  }
 ],
 "metadata": {
  "kernelspec": {
   "display_name": "Python 3 (ipykernel)",
   "language": "python",
   "name": "python3"
  },
  "language_info": {
   "codemirror_mode": {
    "name": "ipython",
    "version": 3
   },
   "file_extension": ".py",
   "mimetype": "text/x-python",
   "name": "python",
   "nbconvert_exporter": "python",
   "pygments_lexer": "ipython3",
   "version": "3.7.3"
  }
 },
 "nbformat": 4,
 "nbformat_minor": 4
}

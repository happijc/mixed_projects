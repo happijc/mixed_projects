{
 "cells": [
  {
   "cell_type": "markdown",
   "metadata": {},
   "source": [
    "*BCSM103*\n",
    "\n",
    "# Zusatzübung vom 16-11-2021\n"
   ]
  },
  {
   "cell_type": "markdown",
   "metadata": {},
   "source": [
    "\n",
    "## Aufgabe: Studiengangsprecher*innenwahlZahlen\n",
    "\n",
    "Nach der geheimen Wahl des Studiengangsprecher/der Studiengangseprecherin \n",
    "sollen die prozentuale Verteilungen der Stimmen für die n Kandidaten bestimmt \n",
    "und ausgegeben werden. Lesen Sie Anzahl der Kandidaten, die Namen der Kandidaten\n",
    "und die Anzahl der Stimmen für die Kandidaten ein: \n",
    "Als Ergebnis geben Sie prozentuale Verteilung der Stimmen aus.\n",
    "\n",
    "Folgende Bildschirmausgaben sollen dabei erzeugt werden:\n",
    "\n",
    "Wieviel Kandidat*innen stehen zu Wahl? 4\n",
    "\n",
    "Wie ist der Name des/der 1ten Kandidat*in? Grün\n",
    "\n",
    "Wie ist der Name des/der 2ten Kandidat*in? Drobe\n",
    "\n",
    "Wie ist der Name des/der 3ten Kandidat*in? Reinert\n",
    "\n",
    "Wie ist der Name des/der 4ten Kandidat*in? Knorr\n",
    "\n",
    "Wieviel Stimmen hat Grün erhalten?34\n",
    "\n",
    "Wieviel Stimmen hat Drobe erhalten?21\n",
    "\n",
    "Wieviel Stimmen hat Reinert erhalten?89\n",
    "\n",
    "Wieviel Stimmen hat Knorr erhalten?90\n",
    "\n",
    "Kandidat*in  Grün  hat  14.5. Prozent der Stimmen.\n",
    "\n",
    "Kandidat*in  Drobe  hat  9.0. Prozent der Stimmen.\n",
    "\n",
    "Kandidat*in  Reinert  hat  38.0. Prozent der Stimmen.\n",
    "\n",
    "Kandidat*in  Knorr  hat  38.5. Prozent der Stimmen.\n",
    "\n",
    "\n",
    "\n",
    "Hinweis:\n",
    "Verwenden Sie drei Listen: namen, stimmen und prozente\n",
    "Speichern Sie darin die entsprechenden Werte. \n"
   ]
  },
  {
   "cell_type": "code",
   "execution_count": null,
   "metadata": {},
   "outputs": [],
   "source": [
    "\n"
   ]
  }
 ],
 "metadata": {
  "kernelspec": {
   "display_name": "Python 3 (ipykernel)",
   "language": "python",
   "name": "python3"
  },
  "language_info": {
   "codemirror_mode": {
    "name": "ipython",
    "version": 3
   },
   "file_extension": ".py",
   "mimetype": "text/x-python",
   "name": "python",
   "nbconvert_exporter": "python",
   "pygments_lexer": "ipython3",
   "version": "3.7.3"
  },
  "widgets": {
   "application/vnd.jupyter.widget-state+json": {
    "state": {},
    "version_major": 2,
    "version_minor": 0
   }
  }
 },
 "nbformat": 4,
 "nbformat_minor": 4
}
